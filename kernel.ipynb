{
  "nbformat": 4,
  "nbformat_minor": 0,
  "metadata": {
    "colab": {
      "provenance": []
    },
    "kernelspec": {
      "name": "python3",
      "display_name": "Python 3"
    },
    "language_info": {
      "name": "python"
    }
  },
  "cells": [
    {
      "cell_type": "code",
      "execution_count": 1,
      "metadata": {
        "id": "lh8UuMqDGx7i"
      },
      "outputs": [],
      "source": [
        "from PIL import Image\n",
        "import numpy as np"
      ]
    },
    {
      "cell_type": "code",
      "source": [
        "image = Image.open('/content/sample_data/image.png')\n",
        "image = np.array(image)\n",
        "image"
      ],
      "metadata": {
        "colab": {
          "base_uri": "https://localhost:8080/"
        },
        "id": "mhYcw-4-OCxA",
        "outputId": "de18e086-cc4c-48a2-e032-79819a6818ed"
      },
      "execution_count": 2,
      "outputs": [
        {
          "output_type": "execute_result",
          "data": {
            "text/plain": [
              "array([[[130, 118, 111, 255],\n",
              "        [130, 118, 111, 255],\n",
              "        [130, 118, 111, 255],\n",
              "        ...,\n",
              "        [ 56,  63,  78, 255],\n",
              "        [ 56,  63,  78, 255],\n",
              "        [ 55,  62,  78, 255]],\n",
              "\n",
              "       [[127, 114, 107, 255],\n",
              "        [127, 114, 107, 255],\n",
              "        [127, 114, 107, 255],\n",
              "        ...,\n",
              "        [ 53,  60,  76, 255],\n",
              "        [ 53,  60,  76, 255],\n",
              "        [ 52,  59,  75, 255]],\n",
              "\n",
              "       [[123, 111, 104, 255],\n",
              "        [123, 111, 104, 255],\n",
              "        [123, 111, 104, 255],\n",
              "        ...,\n",
              "        [ 51,  57,  73, 255],\n",
              "        [ 50,  57,  73, 255],\n",
              "        [ 50,  57,  73, 255]],\n",
              "\n",
              "       ...,\n",
              "\n",
              "       [[144, 130, 132, 255],\n",
              "        [143, 129, 131, 255],\n",
              "        [142, 128, 130, 255],\n",
              "        ...,\n",
              "        [ 43,  47,  64, 255],\n",
              "        [ 43,  47,  64, 255],\n",
              "        [ 43,  47,  64, 255]],\n",
              "\n",
              "       [[144, 130, 132, 255],\n",
              "        [143, 129, 131, 255],\n",
              "        [142, 128, 131, 255],\n",
              "        ...,\n",
              "        [ 43,  47,  64, 255],\n",
              "        [ 43,  47,  64, 255],\n",
              "        [ 43,  47,  64, 255]],\n",
              "\n",
              "       [[144, 130, 133, 255],\n",
              "        [143, 129, 132, 255],\n",
              "        [143, 128, 131, 255],\n",
              "        ...,\n",
              "        [ 44,  48,  65, 255],\n",
              "        [ 44,  48,  65, 255],\n",
              "        [ 44,  48,  65, 255]]], dtype=uint8)"
            ]
          },
          "metadata": {},
          "execution_count": 2
        }
      ]
    },
    {
      "cell_type": "markdown",
      "source": [
        "# Sharpen"
      ],
      "metadata": {
        "id": "HwF_m1MJG2_8"
      }
    },
    {
      "cell_type": "code",
      "source": [
        "def sharpen(image):\n",
        "  # Get image details\n",
        "  num_rows, num_cols, num_channels = image.shape\n",
        "\n",
        "  # Create a 3x3 kernel\n",
        "  kernel = [[0,-1,0],[-1,5,-1],[0,-1,0]]\n",
        "\n",
        "  # Create an output image\n",
        "  output = np.zeros_like(image)\n",
        "\n",
        "  for channel in range(num_channels):\n",
        "    for row in range(num_rows):\n",
        "      for col in range(num_cols):\n",
        "\n",
        "        # Apply the kernel to the current pixel with mirroring\n",
        "        sum = 0\n",
        "\n",
        "        for i in range(-1, 2):\n",
        "          for j in range(-1, 2):\n",
        "            # Since the kernel is equal to its flipped counterpart this works\n",
        "            sum += image[mirror(row+i,num_rows)][mirror(col+j,num_cols)][channel] * kernel[i][j]\n",
        "\n",
        "        output[row][col][channel] = sum\n",
        "\n",
        "  return output"
      ],
      "metadata": {
        "id": "QiPa1byEG7HM"
      },
      "execution_count": 3,
      "outputs": []
    },
    {
      "cell_type": "code",
      "source": [
        "def mirror(number, bound):\n",
        "  if number < 0:\n",
        "    return abs(number)\n",
        "  if number < bound:\n",
        "    return number\n",
        "\n",
        "  return bound - (number % bound)"
      ],
      "metadata": {
        "id": "kErO5oEuSnNh"
      },
      "execution_count": 8,
      "outputs": []
    },
    {
      "cell_type": "code",
      "source": [
        "result = sharpen(image)"
      ],
      "metadata": {
        "id": "-p5WBhy-R0d2"
      },
      "execution_count": 5,
      "outputs": []
    },
    {
      "cell_type": "code",
      "source": [
        "output = Image.fromarray(result)\n",
        "output.save('output.png')"
      ],
      "metadata": {
        "id": "rRdN0PgzWavv"
      },
      "execution_count": 7,
      "outputs": []
    },
    {
      "cell_type": "markdown",
      "source": [
        "Grayscale"
      ],
      "metadata": {
        "id": "nd5bVSEyPr7S"
      }
    },
    {
      "cell_type": "code",
      "source": [
        "def grayscale(image):\n",
        "  # Get image details\n",
        "  num_rows, num_cols, num_channels = image.shape\n",
        "\n",
        "  # Create conversion kernels for each channel\n",
        "  red_Kernel = [[-1,-1,1],[0,1,-1],[0,1,1]]\n",
        "  green_Kernel = [[1,0,0],[1,-1,-1],[1,0,-1]]\n",
        "  blue_Kernel = [[0,1,1],[0,1,0],[1,-1,1]]\n",
        "  kernel_List = [red_Kernel, green_Kernel, blue_Kernel]\n",
        "\n",
        "  # Create an output image\n",
        "  output = np.empty([num_rows, num_cols])\n",
        "\n",
        "  for channel in range(3):\n",
        "    for row in range(num_rows):\n",
        "      for col in range(num_cols):\n",
        "\n",
        "        # Apply the kernel to the current pixel with mirroring\n",
        "        sum = 0\n",
        "\n",
        "        for i in range(-1, 2):\n",
        "          for j in range(-1, 2):\n",
        "            sum += int(image[mirror(row+i,num_rows)][mirror(col+j,num_cols)][channel] * kernel_List[channel][1-i][1-j])\n",
        "\n",
        "          output[row][col] += sum\n",
        "\n",
        "  return output"
      ],
      "metadata": {
        "id": "eNMkTS_4Pvs_"
      },
      "execution_count": 9,
      "outputs": []
    },
    {
      "cell_type": "code",
      "source": [
        "def scale (image):\n",
        "  max = 0\n",
        "  num_rows, num_cols = image.shape\n",
        "  for row in range(num_rows):\n",
        "    for col in range(num_cols):\n",
        "      if image[row][col] > max:\n",
        "        max = image[row][col]\n",
        "\n",
        "  for row in range(num_rows):\n",
        "    for col in range(num_cols):\n",
        "      image[row][col] = image[row][col]/max\n",
        "      image[row][col] = int(image[row][col]*255)"
      ],
      "metadata": {
        "id": "spbpwzIliByu"
      },
      "execution_count": 10,
      "outputs": []
    },
    {
      "cell_type": "code",
      "source": [
        "result = grayscale(image)"
      ],
      "metadata": {
        "id": "BRO1m--xUInd",
        "colab": {
          "base_uri": "https://localhost:8080/",
          "height": 280
        },
        "outputId": "67468d57-42bc-4bd8-a272-5a3970ad48eb"
      },
      "execution_count": 11,
      "outputs": [
        {
          "output_type": "error",
          "ename": "IndexError",
          "evalue": "index 2669 is out of bounds for axis 0 with size 2669",
          "traceback": [
            "\u001b[0;31m---------------------------------------------------------------------------\u001b[0m",
            "\u001b[0;31mIndexError\u001b[0m                                Traceback (most recent call last)",
            "\u001b[0;32m<ipython-input-11-9845e95162b7>\u001b[0m in \u001b[0;36m<cell line: 1>\u001b[0;34m()\u001b[0m\n\u001b[0;32m----> 1\u001b[0;31m \u001b[0mresult\u001b[0m \u001b[0;34m=\u001b[0m \u001b[0mgrayscale\u001b[0m\u001b[0;34m(\u001b[0m\u001b[0mimage\u001b[0m\u001b[0;34m)\u001b[0m\u001b[0;34m\u001b[0m\u001b[0;34m\u001b[0m\u001b[0m\n\u001b[0m",
            "\u001b[0;32m<ipython-input-9-1dd93c2e00a3>\u001b[0m in \u001b[0;36mgrayscale\u001b[0;34m(image)\u001b[0m\n\u001b[1;32m     21\u001b[0m         \u001b[0;32mfor\u001b[0m \u001b[0mi\u001b[0m \u001b[0;32min\u001b[0m \u001b[0mrange\u001b[0m\u001b[0;34m(\u001b[0m\u001b[0;34m-\u001b[0m\u001b[0;36m1\u001b[0m\u001b[0;34m,\u001b[0m \u001b[0;36m2\u001b[0m\u001b[0;34m)\u001b[0m\u001b[0;34m:\u001b[0m\u001b[0;34m\u001b[0m\u001b[0;34m\u001b[0m\u001b[0m\n\u001b[1;32m     22\u001b[0m           \u001b[0;32mfor\u001b[0m \u001b[0mj\u001b[0m \u001b[0;32min\u001b[0m \u001b[0mrange\u001b[0m\u001b[0;34m(\u001b[0m\u001b[0;34m-\u001b[0m\u001b[0;36m1\u001b[0m\u001b[0;34m,\u001b[0m \u001b[0;36m2\u001b[0m\u001b[0;34m)\u001b[0m\u001b[0;34m:\u001b[0m\u001b[0;34m\u001b[0m\u001b[0;34m\u001b[0m\u001b[0m\n\u001b[0;32m---> 23\u001b[0;31m             \u001b[0msum\u001b[0m \u001b[0;34m+=\u001b[0m \u001b[0mint\u001b[0m\u001b[0;34m(\u001b[0m\u001b[0mimage\u001b[0m\u001b[0;34m[\u001b[0m\u001b[0mmirror\u001b[0m\u001b[0;34m(\u001b[0m\u001b[0mrow\u001b[0m\u001b[0;34m+\u001b[0m\u001b[0mi\u001b[0m\u001b[0;34m,\u001b[0m\u001b[0mnum_rows\u001b[0m\u001b[0;34m)\u001b[0m\u001b[0;34m]\u001b[0m\u001b[0;34m[\u001b[0m\u001b[0mmirror\u001b[0m\u001b[0;34m(\u001b[0m\u001b[0mcol\u001b[0m\u001b[0;34m+\u001b[0m\u001b[0mj\u001b[0m\u001b[0;34m,\u001b[0m\u001b[0mnum_cols\u001b[0m\u001b[0;34m)\u001b[0m\u001b[0;34m]\u001b[0m\u001b[0;34m[\u001b[0m\u001b[0mchannel\u001b[0m\u001b[0;34m]\u001b[0m \u001b[0;34m*\u001b[0m \u001b[0mkernel_List\u001b[0m\u001b[0;34m[\u001b[0m\u001b[0mchannel\u001b[0m\u001b[0;34m]\u001b[0m\u001b[0;34m[\u001b[0m\u001b[0;36m1\u001b[0m\u001b[0;34m-\u001b[0m\u001b[0mi\u001b[0m\u001b[0;34m]\u001b[0m\u001b[0;34m[\u001b[0m\u001b[0;36m1\u001b[0m\u001b[0;34m-\u001b[0m\u001b[0mj\u001b[0m\u001b[0;34m]\u001b[0m\u001b[0;34m)\u001b[0m\u001b[0;34m\u001b[0m\u001b[0;34m\u001b[0m\u001b[0m\n\u001b[0m\u001b[1;32m     24\u001b[0m \u001b[0;34m\u001b[0m\u001b[0m\n\u001b[1;32m     25\u001b[0m           \u001b[0moutput\u001b[0m\u001b[0;34m[\u001b[0m\u001b[0mrow\u001b[0m\u001b[0;34m]\u001b[0m\u001b[0;34m[\u001b[0m\u001b[0mcol\u001b[0m\u001b[0;34m]\u001b[0m \u001b[0;34m+=\u001b[0m \u001b[0msum\u001b[0m\u001b[0;34m\u001b[0m\u001b[0;34m\u001b[0m\u001b[0m\n",
            "\u001b[0;31mIndexError\u001b[0m: index 2669 is out of bounds for axis 0 with size 2669"
          ]
        }
      ]
    },
    {
      "cell_type": "code",
      "source": [
        "result"
      ],
      "metadata": {
        "colab": {
          "base_uri": "https://localhost:8080/"
        },
        "id": "yk_9aos_lTMB",
        "outputId": "a1454b6f-8cfb-4521-cf62-94d4fe295e03"
      },
      "execution_count": null,
      "outputs": [
        {
          "output_type": "execute_result",
          "data": {
            "text/plain": [
              "array([[4.46000000e+02, 4.35000000e+02, 4.15000000e+02, ...,\n",
              "        1.39900126e+23, 1.31635985e+23, 1.25733027e+23],\n",
              "       [1.19830069e+23, 1.24552435e+23, 1.30455393e+23, ...,\n",
              "        1.49935155e+23, 1.52296358e+23, 1.54657541e+23],\n",
              "       [1.57018724e+23, 1.49935155e+23, 1.46393380e+23, ...,\n",
              "        1.47573972e+23, 1.46983676e+23, 1.46983676e+23],\n",
              "       ...,\n",
              "       [4.69285266e+22, 4.60430829e+22, 4.81091182e+22, ...,\n",
              "        3.11381088e+22, 2.95147953e+22, 3.05478130e+22],\n",
              "       [2.62681684e+22, 6.46374009e+22, 6.10956260e+22, ...,\n",
              "        3.64507711e+22, 3.48274576e+22, 3.39420139e+22],\n",
              "       [3.36468660e+22, 3.24662744e+22, 2.99575172e+22, ...,\n",
              "        4.22061601e+22, 4.22061601e+22, 3.92546810e+22]])"
            ]
          },
          "metadata": {},
          "execution_count": 73
        }
      ]
    },
    {
      "cell_type": "code",
      "source": [
        "scale(result)"
      ],
      "metadata": {
        "id": "VeMVPwDvjAgV"
      },
      "execution_count": null,
      "outputs": []
    },
    {
      "cell_type": "code",
      "source": [
        "result"
      ],
      "metadata": {
        "colab": {
          "base_uri": "https://localhost:8080/"
        },
        "id": "njfg3zZGkhQE",
        "outputId": "b2344de7-cf78-481d-8a86-ec7f3c3c44d6"
      },
      "execution_count": null,
      "outputs": [
        {
          "output_type": "execute_result",
          "data": {
            "text/plain": [
              "array([[0., 0., 0., ..., 7., 6., 6.],\n",
              "       [5., 6., 6., ..., 7., 7., 7.],\n",
              "       [8., 7., 7., ..., 7., 7., 7.],\n",
              "       ...,\n",
              "       [2., 2., 2., ..., 1., 1., 1.],\n",
              "       [1., 3., 2., ..., 1., 1., 1.],\n",
              "       [1., 1., 1., ..., 2., 2., 2.]])"
            ]
          },
          "metadata": {},
          "execution_count": 80
        }
      ]
    },
    {
      "cell_type": "code",
      "source": [
        "grayscale_output = Image.fromarray(np.uint8(result), 'L')\n",
        "grayscale_output.save('grayscale_output.png')"
      ],
      "metadata": {
        "id": "FY-SowvbUP96"
      },
      "execution_count": null,
      "outputs": []
    },
    {
      "cell_type": "markdown",
      "source": [
        "Edge Detection"
      ],
      "metadata": {
        "id": "GSJUANaNyg9e"
      }
    },
    {
      "cell_type": "code",
      "source": [
        "def edge (image):\n",
        "  sobelx = [[-1,0,1],[-2,0,2],[-1,0,1]]\n",
        "  sobely = [[1,2,1],[0,0,0],[-1,-2,-1]]\n",
        "\n",
        "  num_rows, num_cols, num_channels = image.shape\n",
        "\n",
        "  output = np.copy(image)\n",
        "\n",
        "  for row in range(1, num_rows-1):\n",
        "    for col in range (1, num_cols-1):\n",
        "      for channel in range(num_channels):\n",
        "        sum = 0\n",
        "\n",
        "        for i in range(-1, 2):\n",
        "          for j in range(-1, 2):\n",
        "            sum += image[row+i][col+j][channel] * sobelx[1-i][1-j]\n",
        "            sum += image[row+i][col+j][channel] * sobely[1-i][1-j]\n",
        "            output[row][col][channel] = sum\n",
        "\n",
        "  return output"
      ],
      "metadata": {
        "id": "cRHUCQyayjt2"
      },
      "execution_count": 15,
      "outputs": []
    },
    {
      "cell_type": "code",
      "source": [
        "result = edge(image)"
      ],
      "metadata": {
        "id": "rUoWFVaUwSYO"
      },
      "execution_count": 16,
      "outputs": []
    },
    {
      "cell_type": "code",
      "source": [
        "output = Image.fromarray(result)\n",
        "output.save('output.png')"
      ],
      "metadata": {
        "id": "S1Q1glIrw74w"
      },
      "execution_count": 17,
      "outputs": []
    }
  ]
}